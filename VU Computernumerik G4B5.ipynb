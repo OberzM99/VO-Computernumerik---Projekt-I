{
 "cells": [
  {
   "cell_type": "markdown",
   "id": "88eb1e76-99d7-44de-8b88-c60ef844b8be",
   "metadata": {},
   "source": [
    "# Projekt I: Approximation von Stammfunktionen"
   ]
  },
  {
   "cell_type": "markdown",
   "id": "a1939fe7-9064-427c-bffc-af2fe62f9aed",
   "metadata": {},
   "source": [
    "## Arcustangens"
   ]
  },
  {
   "cell_type": "markdown",
   "id": "dad8b10d-3222-463f-a36f-03785ade1f27",
   "metadata": {},
   "source": [
    "NAMEN Martrikelnummer<br>\n",
    "NAMEN Martrikelnummer"
   ]
  },
  {
   "cell_type": "markdown",
   "id": "efb08774-109d-4840-917f-5da6c2103376",
   "metadata": {},
   "source": [
    "unter Anleitung von <br>\n",
    "Ao.Univ.-Prof.i.R. Dipl.-Ing. Dr.techn. Winfried Auzinger<br>\n",
    "Institut für Analysis und Scientific Computing<br>\n",
    "Technische Universität Wien"
   ]
  },
  {
   "cell_type": "markdown",
   "id": "4680ae17-8b00-49af-afb1-195d08ca2d85",
   "metadata": {},
   "source": [
    "### Aufgabenstellung"
   ]
  },
  {
   "cell_type": "markdown",
   "id": "f9af3fa2-1573-41ba-b086-3c44737f116f",
   "metadata": {},
   "source": [
    "Es soll eine Funktionsprozedur für die Arcustangensfunktion $arctan(x)$ (Hauptzweig, mit Funktionswerten aus ($−π/2, π/2$) entwickelt werden. Die Funktion wird dabei durch die ersten n + 1 Summanden ihrer Taylorreihe bezüglich der Stelle $x_0 = 0$ ersetzt:<br>\n",
    "\n"
   ]
  },
  {
   "cell_type": "code",
   "execution_count": null,
   "id": "bc3405da-06d0-4576-bf95-aa833a64fe68",
   "metadata": {},
   "outputs": [],
   "source": []
  },
  {
   "cell_type": "code",
   "execution_count": null,
   "id": "0ae74438-0ffc-4b82-8054-feaca3aebced",
   "metadata": {},
   "outputs": [],
   "source": []
  }
 ],
 "metadata": {
  "kernelspec": {
   "display_name": "Python 3 (ipykernel)",
   "language": "python",
   "name": "python3"
  },
  "language_info": {
   "codemirror_mode": {
    "name": "ipython",
    "version": 3
   },
   "file_extension": ".py",
   "mimetype": "text/x-python",
   "name": "python",
   "nbconvert_exporter": "python",
   "pygments_lexer": "ipython3",
   "version": "3.12.3"
  }
 },
 "nbformat": 4,
 "nbformat_minor": 5
}
